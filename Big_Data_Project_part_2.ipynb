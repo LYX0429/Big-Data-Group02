{
  "nbformat": 4,
  "nbformat_minor": 0,
  "metadata": {
    "colab": {
      "name": "Big Data Project part 2",
      "provenance": [],
      "collapsed_sections": []
    },
    "kernelspec": {
      "name": "python3",
      "display_name": "Python 3"
    },
    "language_info": {
      "name": "python"
    }
  },
  "cells": [
    {
      "cell_type": "code",
      "source": [
        "pip install openclean"
      ],
      "metadata": {
        "colab": {
          "base_uri": "https://localhost:8080/"
        },
        "id": "VJl0WGxcP_IT",
        "outputId": "e236c6f2-0a04-4353-ecf4-ba242261e612"
      },
      "execution_count": 1,
      "outputs": [
        {
          "output_type": "stream",
          "name": "stdout",
          "text": [
            "Collecting openclean\n",
            "  Downloading openclean-0.2.1-py3-none-any.whl (5.2 kB)\n",
            "Collecting openclean-core==0.4.1\n",
            "  Downloading openclean_core-0.4.1-py3-none-any.whl (267 kB)\n",
            "\u001b[K     |████████████████████████████████| 267 kB 26.8 MB/s \n",
            "\u001b[?25hRequirement already satisfied: pandas>=1.0.0 in /usr/local/lib/python3.7/dist-packages (from openclean-core==0.4.1->openclean) (1.1.5)\n",
            "Collecting flowserv-core>=0.8.0\n",
            "  Downloading flowserv_core-0.9.2-py3-none-any.whl (260 kB)\n",
            "\u001b[K     |████████████████████████████████| 260 kB 45.8 MB/s \n",
            "\u001b[?25hRequirement already satisfied: future in /usr/local/lib/python3.7/dist-packages (from openclean-core==0.4.1->openclean) (0.16.0)\n",
            "Collecting jellyfish\n",
            "  Downloading jellyfish-0.8.9.tar.gz (137 kB)\n",
            "\u001b[K     |████████████████████████████████| 137 kB 41.0 MB/s \n",
            "\u001b[?25hRequirement already satisfied: scikit-learn in /usr/local/lib/python3.7/dist-packages (from openclean-core==0.4.1->openclean) (1.0.1)\n",
            "Collecting jsonschema>=3.2.0\n",
            "  Downloading jsonschema-4.2.1-py3-none-any.whl (69 kB)\n",
            "\u001b[K     |████████████████████████████████| 69 kB 4.9 MB/s \n",
            "\u001b[?25hRequirement already satisfied: dill in /usr/local/lib/python3.7/dist-packages (from openclean-core==0.4.1->openclean) (0.3.4)\n",
            "Collecting histore>=0.4.0\n",
            "  Downloading histore-0.4.1-py3-none-any.whl (109 kB)\n",
            "\u001b[K     |████████████████████████████████| 109 kB 35.1 MB/s \n",
            "\u001b[?25hCollecting refdata>=0.2.0\n",
            "  Downloading refdata-0.2.0-py3-none-any.whl (37 kB)\n",
            "Requirement already satisfied: python-dateutil in /usr/local/lib/python3.7/dist-packages (from openclean-core==0.4.1->openclean) (2.8.2)\n",
            "Requirement already satisfied: scipy in /usr/local/lib/python3.7/dist-packages (from openclean-core==0.4.1->openclean) (1.4.1)\n",
            "Requirement already satisfied: appdirs>=1.4.4 in /usr/local/lib/python3.7/dist-packages (from openclean-core==0.4.1->openclean) (1.4.4)\n",
            "Requirement already satisfied: requests in /usr/local/lib/python3.7/dist-packages (from openclean-core==0.4.1->openclean) (2.23.0)\n",
            "Collecting passlib\n",
            "  Downloading passlib-1.7.4-py2.py3-none-any.whl (525 kB)\n",
            "\u001b[K     |████████████████████████████████| 525 kB 27.9 MB/s \n",
            "\u001b[?25hCollecting paramiko\n",
            "  Downloading paramiko-2.8.1-py2.py3-none-any.whl (206 kB)\n",
            "\u001b[K     |████████████████████████████████| 206 kB 54.0 MB/s \n",
            "\u001b[?25hCollecting gitpython\n",
            "  Downloading GitPython-3.1.24-py3-none-any.whl (180 kB)\n",
            "\u001b[K     |████████████████████████████████| 180 kB 51.7 MB/s \n",
            "\u001b[?25hRequirement already satisfied: SQLAlchemy>=1.3.18 in /usr/local/lib/python3.7/dist-packages (from flowserv-core>=0.8.0->openclean-core==0.4.1->openclean) (1.4.27)\n",
            "Collecting pyyaml>=5.1\n",
            "  Downloading PyYAML-6.0-cp37-cp37m-manylinux_2_5_x86_64.manylinux1_x86_64.manylinux_2_12_x86_64.manylinux2010_x86_64.whl (596 kB)\n",
            "\u001b[K     |████████████████████████████████| 596 kB 35.3 MB/s \n",
            "\u001b[?25hCollecting pyyaml-include\n",
            "  Downloading pyyaml_include-1.2.post2-py3-none-any.whl (20 kB)\n",
            "Requirement already satisfied: Click in /usr/local/lib/python3.7/dist-packages (from flowserv-core>=0.8.0->openclean-core==0.4.1->openclean) (7.1.2)\n",
            "Requirement already satisfied: psutil in /usr/local/lib/python3.7/dist-packages (from histore>=0.4.0->openclean-core==0.4.1->openclean) (5.4.8)\n",
            "Requirement already satisfied: attrs>=17.4.0 in /usr/local/lib/python3.7/dist-packages (from jsonschema>=3.2.0->openclean-core==0.4.1->openclean) (21.2.0)\n",
            "Requirement already satisfied: importlib-metadata in /usr/local/lib/python3.7/dist-packages (from jsonschema>=3.2.0->openclean-core==0.4.1->openclean) (4.8.2)\n",
            "Requirement already satisfied: importlib-resources>=1.4.0 in /usr/local/lib/python3.7/dist-packages (from jsonschema>=3.2.0->openclean-core==0.4.1->openclean) (5.4.0)\n",
            "Requirement already satisfied: pyrsistent!=0.17.0,!=0.17.1,!=0.17.2,>=0.14.0 in /usr/local/lib/python3.7/dist-packages (from jsonschema>=3.2.0->openclean-core==0.4.1->openclean) (0.18.0)\n",
            "Requirement already satisfied: zipp>=3.1.0 in /usr/local/lib/python3.7/dist-packages (from importlib-resources>=1.4.0->jsonschema>=3.2.0->openclean-core==0.4.1->openclean) (3.6.0)\n",
            "Requirement already satisfied: pytz>=2017.2 in /usr/local/lib/python3.7/dist-packages (from pandas>=1.0.0->openclean-core==0.4.1->openclean) (2018.9)\n",
            "Requirement already satisfied: numpy>=1.15.4 in /usr/local/lib/python3.7/dist-packages (from pandas>=1.0.0->openclean-core==0.4.1->openclean) (1.19.5)\n",
            "Requirement already satisfied: six>=1.5 in /usr/local/lib/python3.7/dist-packages (from python-dateutil->openclean-core==0.4.1->openclean) (1.15.0)\n",
            "Collecting datasize>=1.0.0\n",
            "  Downloading datasize-1.0.0.tar.gz (149 kB)\n",
            "\u001b[K     |████████████████████████████████| 149 kB 51.1 MB/s \n",
            "\u001b[?25hCollecting tableprint\n",
            "  Downloading tableprint-0.9.1-py3-none-any.whl (6.8 kB)\n",
            "Requirement already satisfied: pooch>=1.3.0 in /usr/local/lib/python3.7/dist-packages (from refdata>=0.2.0->openclean-core==0.4.1->openclean) (1.5.2)\n",
            "Requirement already satisfied: packaging in /usr/local/lib/python3.7/dist-packages (from pooch>=1.3.0->refdata>=0.2.0->openclean-core==0.4.1->openclean) (21.3)\n",
            "Requirement already satisfied: greenlet!=0.4.17 in /usr/local/lib/python3.7/dist-packages (from SQLAlchemy>=1.3.18->flowserv-core>=0.8.0->openclean-core==0.4.1->openclean) (1.1.2)\n",
            "Collecting gitdb<5,>=4.0.1\n",
            "  Downloading gitdb-4.0.9-py3-none-any.whl (63 kB)\n",
            "\u001b[K     |████████████████████████████████| 63 kB 1.8 MB/s \n",
            "\u001b[?25hRequirement already satisfied: typing-extensions>=3.7.4.3 in /usr/local/lib/python3.7/dist-packages (from gitpython->flowserv-core>=0.8.0->openclean-core==0.4.1->openclean) (3.10.0.2)\n",
            "Collecting smmap<6,>=3.0.1\n",
            "  Downloading smmap-5.0.0-py3-none-any.whl (24 kB)\n",
            "Requirement already satisfied: pyparsing!=3.0.5,>=2.0.2 in /usr/local/lib/python3.7/dist-packages (from packaging->pooch>=1.3.0->refdata>=0.2.0->openclean-core==0.4.1->openclean) (3.0.6)\n",
            "Collecting cryptography>=2.5\n",
            "  Downloading cryptography-36.0.0-cp36-abi3-manylinux_2_24_x86_64.whl (3.6 MB)\n",
            "\u001b[K     |████████████████████████████████| 3.6 MB 43.8 MB/s \n",
            "\u001b[?25hCollecting bcrypt>=3.1.3\n",
            "  Downloading bcrypt-3.2.0-cp36-abi3-manylinux2010_x86_64.whl (63 kB)\n",
            "\u001b[K     |████████████████████████████████| 63 kB 2.8 MB/s \n",
            "\u001b[?25hCollecting pynacl>=1.0.1\n",
            "  Downloading PyNaCl-1.4.0-cp35-abi3-manylinux1_x86_64.whl (961 kB)\n",
            "\u001b[K     |████████████████████████████████| 961 kB 68.2 MB/s \n",
            "\u001b[?25hRequirement already satisfied: cffi>=1.1 in /usr/local/lib/python3.7/dist-packages (from bcrypt>=3.1.3->paramiko->flowserv-core>=0.8.0->openclean-core==0.4.1->openclean) (1.15.0)\n",
            "Requirement already satisfied: pycparser in /usr/local/lib/python3.7/dist-packages (from cffi>=1.1->bcrypt>=3.1.3->paramiko->flowserv-core>=0.8.0->openclean-core==0.4.1->openclean) (2.21)\n",
            "Collecting pyyaml>=5.1\n",
            "  Downloading PyYAML-5.4.1-cp37-cp37m-manylinux1_x86_64.whl (636 kB)\n",
            "\u001b[K     |████████████████████████████████| 636 kB 40.4 MB/s \n",
            "\u001b[?25hRequirement already satisfied: urllib3!=1.25.0,!=1.25.1,<1.26,>=1.21.1 in /usr/local/lib/python3.7/dist-packages (from requests->openclean-core==0.4.1->openclean) (1.24.3)\n",
            "Requirement already satisfied: chardet<4,>=3.0.2 in /usr/local/lib/python3.7/dist-packages (from requests->openclean-core==0.4.1->openclean) (3.0.4)\n",
            "Requirement already satisfied: idna<3,>=2.5 in /usr/local/lib/python3.7/dist-packages (from requests->openclean-core==0.4.1->openclean) (2.10)\n",
            "Requirement already satisfied: certifi>=2017.4.17 in /usr/local/lib/python3.7/dist-packages (from requests->openclean-core==0.4.1->openclean) (2021.10.8)\n",
            "Requirement already satisfied: threadpoolctl>=2.0.0 in /usr/local/lib/python3.7/dist-packages (from scikit-learn->openclean-core==0.4.1->openclean) (3.0.0)\n",
            "Requirement already satisfied: joblib>=0.11 in /usr/local/lib/python3.7/dist-packages (from scikit-learn->openclean-core==0.4.1->openclean) (1.1.0)\n",
            "Requirement already satisfied: wcwidth in /usr/local/lib/python3.7/dist-packages (from tableprint->refdata>=0.2.0->openclean-core==0.4.1->openclean) (0.2.5)\n",
            "Building wheels for collected packages: datasize, jellyfish\n",
            "  Building wheel for datasize (setup.py) ... \u001b[?25l\u001b[?25hdone\n",
            "  Created wheel for datasize: filename=datasize-1.0.0-py2.py3-none-any.whl size=155047 sha256=0c08a604d0de8132bd96fe8e4c42023a4b360b9b662021cf90cdbe38f8ebb10c\n",
            "  Stored in directory: /root/.cache/pip/wheels/f7/b5/32/d8836896da6aca7f9c5748670ea6110d1385c262bf3abcca30\n",
            "  Building wheel for jellyfish (setup.py) ... \u001b[?25l\u001b[?25hdone\n",
            "  Created wheel for jellyfish: filename=jellyfish-0.8.9-cp37-cp37m-linux_x86_64.whl size=73222 sha256=02a19398f668b66b63427c6e67fb9f4de279e5d9720dc0536b667a961f21338f\n",
            "  Stored in directory: /root/.cache/pip/wheels/32/a9/ef/5d8742e72deaf0d1de327a180d008c2c0299367581800ea73f\n",
            "Successfully built datasize jellyfish\n",
            "Installing collected packages: smmap, pyyaml, pynacl, gitdb, cryptography, bcrypt, tableprint, pyyaml-include, passlib, paramiko, jsonschema, gitpython, datasize, refdata, jellyfish, histore, flowserv-core, openclean-core, openclean\n",
            "  Attempting uninstall: pyyaml\n",
            "    Found existing installation: PyYAML 3.13\n",
            "    Uninstalling PyYAML-3.13:\n",
            "      Successfully uninstalled PyYAML-3.13\n",
            "  Attempting uninstall: jsonschema\n",
            "    Found existing installation: jsonschema 2.6.0\n",
            "    Uninstalling jsonschema-2.6.0:\n",
            "      Successfully uninstalled jsonschema-2.6.0\n",
            "\u001b[31mERROR: pip's dependency resolver does not currently take into account all the packages that are installed. This behaviour is the source of the following dependency conflicts.\n",
            "nbclient 0.5.9 requires jupyter-client>=6.1.5, but you have jupyter-client 5.3.5 which is incompatible.\u001b[0m\n",
            "Successfully installed bcrypt-3.2.0 cryptography-36.0.0 datasize-1.0.0 flowserv-core-0.9.2 gitdb-4.0.9 gitpython-3.1.24 histore-0.4.1 jellyfish-0.8.9 jsonschema-4.2.1 openclean-0.2.1 openclean-core-0.4.1 paramiko-2.8.1 passlib-1.7.4 pynacl-1.4.0 pyyaml-5.4.1 pyyaml-include-1.2.post2 refdata-0.2.0 smmap-5.0.0 tableprint-0.9.1\n"
          ]
        }
      ]
    },
    {
      "cell_type": "code",
      "execution_count": 2,
      "metadata": {
        "colab": {
          "base_uri": "https://localhost:8080/"
        },
        "id": "FEP2daB2NFXq",
        "outputId": "04f3c5c8-035a-4702-8edb-ea3131b930f6"
      },
      "outputs": [
        {
          "output_type": "stream",
          "name": "stdout",
          "text": [
            "Mounted at /content/drive\n"
          ]
        }
      ],
      "source": [
        "from google.colab import drive\n",
        "drive.mount('/content/drive')"
      ]
    },
    {
      "cell_type": "code",
      "source": [
        "import openclean\n",
        "import os"
      ],
      "metadata": {
        "id": "cYESyvunNR6h"
      },
      "execution_count": 3,
      "outputs": []
    },
    {
      "cell_type": "markdown",
      "source": [
        "Download Dataset from https://data.cityofnewyork.us/Housing-Development/DOB-Violations/3h2n-5cm9"
      ],
      "metadata": {
        "id": "uiR2ArcFEAYj"
      }
    },
    {
      "cell_type": "markdown",
      "source": [
        "Then upload it to google drive"
      ],
      "metadata": {
        "id": "XIoOmqLdEW56"
      }
    },
    {
      "cell_type": "code",
      "source": [
        "fileName = '/content/drive/My Drive/Big Data/DOB_Violations.csv'"
      ],
      "metadata": {
        "id": "9mNmuPeyQIrs"
      },
      "execution_count": 4,
      "outputs": []
    },
    {
      "cell_type": "code",
      "source": [
        "from openclean.pipeline import stream\n",
        "ds = stream(os.path.join('data', fileName))"
      ],
      "metadata": {
        "id": "OLH3wPdWNerV"
      },
      "execution_count": 5,
      "outputs": []
    },
    {
      "cell_type": "code",
      "source": [
        "ds.columns"
      ],
      "metadata": {
        "colab": {
          "base_uri": "https://localhost:8080/"
        },
        "id": "-cZTISiqNgXm",
        "outputId": "0b4ab968-8ba9-4d29-e212-ac01ae6255e1"
      },
      "execution_count": 6,
      "outputs": [
        {
          "output_type": "execute_result",
          "data": {
            "text/plain": [
              "['ISN_DOB_BIS_VIOL',\n",
              " 'BORO',\n",
              " 'BIN',\n",
              " 'BLOCK',\n",
              " 'LOT',\n",
              " 'ISSUE_DATE',\n",
              " 'VIOLATION_TYPE_CODE',\n",
              " 'VIOLATION_NUMBER',\n",
              " 'HOUSE_NUMBER',\n",
              " 'STREET',\n",
              " 'DISPOSITION_DATE',\n",
              " 'DISPOSITION_COMMENTS',\n",
              " 'DEVICE_NUMBER',\n",
              " 'DESCRIPTION',\n",
              " 'ECB_NUMBER',\n",
              " 'NUMBER',\n",
              " 'VIOLATION_CATEGORY',\n",
              " 'VIOLATION_TYPE']"
            ]
          },
          "metadata": {},
          "execution_count": 6
        }
      ]
    },
    {
      "cell_type": "code",
      "source": [
        "from openclean.function.eval.base import Col"
      ],
      "metadata": {
        "id": "MlsqtoMNTph4"
      },
      "execution_count": 7,
      "outputs": []
    },
    {
      "cell_type": "code",
      "source": [
        "columns=[\n",
        "    'HOUSE_NUMBER',\n",
        "    'STREET',\n",
        "    'VIOLATION_TYPE_CODE',\n",
        "    'VIOLATION_NUMBER',\n",
        "    'VIOLATION_CATEGORY',\n",
        "    'VIOLATION_TYPE'\n",
        "]\n",
        "ds = ds.select(columns)"
      ],
      "metadata": {
        "id": "esu752JDQaY1"
      },
      "execution_count": 8,
      "outputs": []
    },
    {
      "cell_type": "markdown",
      "source": [
        "Data profiling with openclean"
      ],
      "metadata": {
        "id": "qE4tB04dEics"
      }
    },
    {
      "cell_type": "code",
      "source": [
        "profiles = ds.profile()"
      ],
      "metadata": {
        "id": "vSud2ePwRjYJ"
      },
      "execution_count": 9,
      "outputs": []
    },
    {
      "cell_type": "code",
      "source": [
        "profiles"
      ],
      "metadata": {
        "colab": {
          "base_uri": "https://localhost:8080/"
        },
        "id": "W_QuECQGR81o",
        "outputId": "109e3221-0ba1-4d8a-fbd4-514a91ca1fbc"
      },
      "execution_count": 10,
      "outputs": [
        {
          "output_type": "execute_result",
          "data": {
            "text/plain": [
              "[{'column': 'HOUSE_NUMBER',\n",
              "  'stats': {'datatypes': defaultdict(collections.Counter,\n",
              "               {'total': Counter({'date': 3689,\n",
              "                         'float': 119,\n",
              "                         'int': 1846055,\n",
              "                         'str': 382542})}),\n",
              "   'emptyValueCount': 367,\n",
              "   'minmaxValues': {'date': {'maximum': datetime.datetime(4572, 12, 13, 0, 0),\n",
              "     'minimum': datetime.datetime(100, 1, 13, 0, 0)},\n",
              "    'float': {'maximum': 91018.0, 'minimum': 7.5},\n",
              "    'int': {'maximum': 8152008, 'minimum': -28},\n",
              "    'str': {'maximum': '¦04', 'minimum': '#G25FP'}},\n",
              "   'totalValueCount': 2232772}},\n",
              " {'column': 'STREET',\n",
              "  'stats': {'datatypes': defaultdict(collections.Counter,\n",
              "               {'total': Counter({'date': 32, 'int': 32, 'str': 2215309})}),\n",
              "   'emptyValueCount': 17399,\n",
              "   'minmaxValues': {'date': {'maximum': datetime.datetime(2067, 12, 13, 0, 0),\n",
              "     'minimum': datetime.datetime(180, 12, 13, 0, 0)},\n",
              "    'int': {'maximum': 63, 'minimum': 0},\n",
              "    'str': {'maximum': '\\xa0MAIN STREET', 'minimum': \"'\\t15 AVENUE'\"}},\n",
              "   'totalValueCount': 2232772}},\n",
              " {'column': 'VIOLATION_TYPE_CODE',\n",
              "  'stats': {'datatypes': defaultdict(collections.Counter,\n",
              "               {'total': Counter({'str': 2232772})}),\n",
              "   'emptyValueCount': 0,\n",
              "   'minmaxValues': {'str': {'maximum': 'Z', 'minimum': '7A'}},\n",
              "   'totalValueCount': 2232772}},\n",
              " {'column': 'VIOLATION_NUMBER',\n",
              "  'stats': {'datatypes': defaultdict(collections.Counter,\n",
              "               {'total': Counter({'date': 64,\n",
              "                         'float': 278,\n",
              "                         'int': 1280467,\n",
              "                         'str': 951958})}),\n",
              "   'emptyValueCount': 5,\n",
              "   'minmaxValues': {'date': {'maximum': datetime.datetime(7026, 12, 13, 0, 0),\n",
              "     'minimum': datetime.datetime(104, 1, 13, 2, 0)},\n",
              "    'float': {'maximum': inf, 'minimum': 0.051},\n",
              "    'int': {'maximum': 99441139767, 'minimum': -297},\n",
              "    'str': {'maximum': '¬TVW', 'minimum': '#326375C301'}},\n",
              "   'totalValueCount': 2232772}},\n",
              " {'column': 'VIOLATION_CATEGORY',\n",
              "  'stats': {'datatypes': defaultdict(collections.Counter,\n",
              "               {'total': Counter({'str': 2229015})}),\n",
              "   'emptyValueCount': 3757,\n",
              "   'minmaxValues': {'str': {'maximum': 'VWH-VIOLATION WORK W/OUT PMT HAZARDOUS - ACTIVE',\n",
              "     'minimum': 'V%-UB VIOLATION'}},\n",
              "   'totalValueCount': 2232772}},\n",
              " {'column': 'VIOLATION_TYPE',\n",
              "  'stats': {'datatypes': defaultdict(collections.Counter,\n",
              "               {'total': Counter({'str': 2232761})}),\n",
              "   'emptyValueCount': 11,\n",
              "   'minmaxValues': {'str': {'maximum': 'Z-ZONING', 'minimum': 'A-SEU'}},\n",
              "   'totalValueCount': 2232772}}]"
            ]
          },
          "metadata": {},
          "execution_count": 10
        }
      ]
    },
    {
      "cell_type": "code",
      "source": [
        "profiles.stats()['empty']"
      ],
      "metadata": {
        "colab": {
          "base_uri": "https://localhost:8080/"
        },
        "id": "5eZpiKeRTSkP",
        "outputId": "9a10317b-996c-447d-c6c5-ed8ea9a30f8d"
      },
      "execution_count": 11,
      "outputs": [
        {
          "output_type": "execute_result",
          "data": {
            "text/plain": [
              "HOUSE_NUMBER             367\n",
              "STREET                 17399\n",
              "VIOLATION_TYPE_CODE        0\n",
              "VIOLATION_NUMBER           5\n",
              "VIOLATION_CATEGORY      3757\n",
              "VIOLATION_TYPE            11\n",
              "Name: empty, dtype: int64"
            ]
          },
          "metadata": {},
          "execution_count": 11
        }
      ]
    },
    {
      "cell_type": "code",
      "source": [
        "profiles.types()"
      ],
      "metadata": {
        "colab": {
          "base_uri": "https://localhost:8080/",
          "height": 235
        },
        "id": "bXVcoQ3qVyyG",
        "outputId": "2c82ade2-1ba0-4cb5-e7b7-03ba3c427d06"
      },
      "execution_count": 12,
      "outputs": [
        {
          "output_type": "execute_result",
          "data": {
            "text/html": [
              "<div>\n",
              "<style scoped>\n",
              "    .dataframe tbody tr th:only-of-type {\n",
              "        vertical-align: middle;\n",
              "    }\n",
              "\n",
              "    .dataframe tbody tr th {\n",
              "        vertical-align: top;\n",
              "    }\n",
              "\n",
              "    .dataframe thead th {\n",
              "        text-align: right;\n",
              "    }\n",
              "</style>\n",
              "<table border=\"1\" class=\"dataframe\">\n",
              "  <thead>\n",
              "    <tr style=\"text-align: right;\">\n",
              "      <th></th>\n",
              "      <th>date</th>\n",
              "      <th>float</th>\n",
              "      <th>int</th>\n",
              "      <th>str</th>\n",
              "    </tr>\n",
              "  </thead>\n",
              "  <tbody>\n",
              "    <tr>\n",
              "      <th>HOUSE_NUMBER</th>\n",
              "      <td>3689</td>\n",
              "      <td>119</td>\n",
              "      <td>1846055</td>\n",
              "      <td>382542</td>\n",
              "    </tr>\n",
              "    <tr>\n",
              "      <th>STREET</th>\n",
              "      <td>32</td>\n",
              "      <td>0</td>\n",
              "      <td>32</td>\n",
              "      <td>2215309</td>\n",
              "    </tr>\n",
              "    <tr>\n",
              "      <th>VIOLATION_TYPE_CODE</th>\n",
              "      <td>0</td>\n",
              "      <td>0</td>\n",
              "      <td>0</td>\n",
              "      <td>2232772</td>\n",
              "    </tr>\n",
              "    <tr>\n",
              "      <th>VIOLATION_NUMBER</th>\n",
              "      <td>64</td>\n",
              "      <td>278</td>\n",
              "      <td>1280467</td>\n",
              "      <td>951958</td>\n",
              "    </tr>\n",
              "    <tr>\n",
              "      <th>VIOLATION_CATEGORY</th>\n",
              "      <td>0</td>\n",
              "      <td>0</td>\n",
              "      <td>0</td>\n",
              "      <td>2229015</td>\n",
              "    </tr>\n",
              "    <tr>\n",
              "      <th>VIOLATION_TYPE</th>\n",
              "      <td>0</td>\n",
              "      <td>0</td>\n",
              "      <td>0</td>\n",
              "      <td>2232761</td>\n",
              "    </tr>\n",
              "  </tbody>\n",
              "</table>\n",
              "</div>"
            ],
            "text/plain": [
              "                     date  float      int      str\n",
              "HOUSE_NUMBER         3689    119  1846055   382542\n",
              "STREET                 32      0       32  2215309\n",
              "VIOLATION_TYPE_CODE     0      0        0  2232772\n",
              "VIOLATION_NUMBER       64    278  1280467   951958\n",
              "VIOLATION_CATEGORY      0      0        0  2229015\n",
              "VIOLATION_TYPE          0      0        0  2232761"
            ]
          },
          "metadata": {},
          "execution_count": 12
        }
      ]
    },
    {
      "cell_type": "code",
      "source": [
        "from openclean.function.eval.datatype import IsDatetime\n",
        "\n",
        "ds.select('HOUSE_NUMBER').filter(IsDatetime('HOUSE_NUMBER')).head()"
      ],
      "metadata": {
        "colab": {
          "base_uri": "https://localhost:8080/",
          "height": 359
        },
        "id": "bw2WEkN9WFRW",
        "outputId": "ff9f0483-449b-4bf8-fc44-e8a946ad0406"
      },
      "execution_count": 13,
      "outputs": [
        {
          "output_type": "execute_result",
          "data": {
            "text/html": [
              "<div>\n",
              "<style scoped>\n",
              "    .dataframe tbody tr th:only-of-type {\n",
              "        vertical-align: middle;\n",
              "    }\n",
              "\n",
              "    .dataframe tbody tr th {\n",
              "        vertical-align: top;\n",
              "    }\n",
              "\n",
              "    .dataframe thead th {\n",
              "        text-align: right;\n",
              "    }\n",
              "</style>\n",
              "<table border=\"1\" class=\"dataframe\">\n",
              "  <thead>\n",
              "    <tr style=\"text-align: right;\">\n",
              "      <th></th>\n",
              "      <th>HOUSE_NUMBER</th>\n",
              "    </tr>\n",
              "  </thead>\n",
              "  <tbody>\n",
              "    <tr>\n",
              "      <th>505</th>\n",
              "      <td>360</td>\n",
              "    </tr>\n",
              "    <tr>\n",
              "      <th>807</th>\n",
              "      <td>263</td>\n",
              "    </tr>\n",
              "    <tr>\n",
              "      <th>811</th>\n",
              "      <td>503</td>\n",
              "    </tr>\n",
              "    <tr>\n",
              "      <th>972</th>\n",
              "      <td>503</td>\n",
              "    </tr>\n",
              "    <tr>\n",
              "      <th>1082</th>\n",
              "      <td>1301</td>\n",
              "    </tr>\n",
              "    <tr>\n",
              "      <th>1085</th>\n",
              "      <td>498</td>\n",
              "    </tr>\n",
              "    <tr>\n",
              "      <th>1259</th>\n",
              "      <td>108</td>\n",
              "    </tr>\n",
              "    <tr>\n",
              "      <th>1261</th>\n",
              "      <td>154</td>\n",
              "    </tr>\n",
              "    <tr>\n",
              "      <th>1284</th>\n",
              "      <td>615</td>\n",
              "    </tr>\n",
              "    <tr>\n",
              "      <th>1542</th>\n",
              "      <td>89-06</td>\n",
              "    </tr>\n",
              "  </tbody>\n",
              "</table>\n",
              "</div>"
            ],
            "text/plain": [
              "      HOUSE_NUMBER\n",
              "505   360         \n",
              "807   263         \n",
              "811   503         \n",
              "972   503         \n",
              "1082  1301        \n",
              "1085  498         \n",
              "1259  108         \n",
              "1261  154         \n",
              "1284  615         \n",
              "1542  89-06       "
            ]
          },
          "metadata": {},
          "execution_count": 13
        }
      ]
    },
    {
      "cell_type": "code",
      "source": [
        "ds.select('STREET').filter(IsDatetime('STREET')).distinct()"
      ],
      "metadata": {
        "colab": {
          "base_uri": "https://localhost:8080/"
        },
        "id": "eGv6XVYNb5kR",
        "outputId": "981ed4da-c120-4bfa-812d-70e001f85cc5"
      },
      "execution_count": 14,
      "outputs": [
        {
          "output_type": "execute_result",
          "data": {
            "text/plain": [
              "Counter({'180  ST': 16,\n",
              "         '31 ST.': 1,\n",
              "         '41  ST': 9,\n",
              "         '47  ST': 1,\n",
              "         '47 ST.': 1,\n",
              "         '67  ST': 3,\n",
              "         '78. ST': 1})"
            ]
          },
          "metadata": {},
          "execution_count": 14
        }
      ]
    },
    {
      "cell_type": "code",
      "source": [
        "ds.filter(Col('HOUSE_NUMBER')=='#G25FP').distinct()"
      ],
      "metadata": {
        "colab": {
          "base_uri": "https://localhost:8080/"
        },
        "id": "IJVLhRWcmW3P",
        "outputId": "5e9961c1-6383-4424-d2bd-cad164e331d2"
      },
      "execution_count": 15,
      "outputs": [
        {
          "output_type": "execute_result",
          "data": {
            "text/plain": [
              "Counter({('#G25FP',\n",
              "          'J F K AIRPORT',\n",
              "          'LL6291',\n",
              "          '29796',\n",
              "          'V-DOB VIOLATION - ACTIVE',\n",
              "          'LL6291-LOCAL LAW 62/91 - BOILERS'): 1,\n",
              "         ('#G25FP',\n",
              "          'J F K AIRPORT',\n",
              "          'LL6291',\n",
              "          '29797',\n",
              "          'V-DOB VIOLATION - ACTIVE',\n",
              "          'LL6291-LOCAL LAW 62/91 - BOILERS'): 1,\n",
              "         ('#G25FP',\n",
              "          'J F K AIRPORT',\n",
              "          'LL6291',\n",
              "          '30384',\n",
              "          'V-DOB VIOLATION - ACTIVE',\n",
              "          'LL6291-LOCAL LAW 62/91 - BOILERS'): 1,\n",
              "         ('#G25FP',\n",
              "          'J F K AIRPORT',\n",
              "          'LL6291',\n",
              "          '30385',\n",
              "          'V-DOB VIOLATION - ACTIVE',\n",
              "          'LL6291-LOCAL LAW 62/91 - BOILERS'): 1,\n",
              "         ('#G25FP',\n",
              "          'J F K AIRPORT',\n",
              "          'LL6291',\n",
              "          '30651',\n",
              "          'V-DOB VIOLATION - ACTIVE',\n",
              "          'LL6291-LOCAL LAW 62/91 - BOILERS'): 1,\n",
              "         ('#G25FP',\n",
              "          'J F K AIRPORT',\n",
              "          'LL6291',\n",
              "          '30652',\n",
              "          'V-DOB VIOLATION - ACTIVE',\n",
              "          'LL6291-LOCAL LAW 62/91 - BOILERS'): 1,\n",
              "         ('#G25FP',\n",
              "          'J F K AIRPORT',\n",
              "          'LL6291',\n",
              "          '31512',\n",
              "          'V-DOB VIOLATION - ACTIVE',\n",
              "          'LL6291-LOCAL LAW 62/91 - BOILERS'): 1,\n",
              "         ('#G25FP',\n",
              "          'J F K AIRPORT',\n",
              "          'LL6291',\n",
              "          '31513',\n",
              "          'V-DOB VIOLATION - ACTIVE',\n",
              "          'LL6291-LOCAL LAW 62/91 - BOILERS'): 1})"
            ]
          },
          "metadata": {},
          "execution_count": 15
        }
      ]
    },
    {
      "cell_type": "code",
      "source": [
        "ds.select('STREET').head()"
      ],
      "metadata": {
        "colab": {
          "base_uri": "https://localhost:8080/",
          "height": 359
        },
        "id": "zumRCFmbpVbP",
        "outputId": "24165859-81b0-4e55-c3a1-9d36a0e4fa44"
      },
      "execution_count": 16,
      "outputs": [
        {
          "output_type": "execute_result",
          "data": {
            "text/html": [
              "<div>\n",
              "<style scoped>\n",
              "    .dataframe tbody tr th:only-of-type {\n",
              "        vertical-align: middle;\n",
              "    }\n",
              "\n",
              "    .dataframe tbody tr th {\n",
              "        vertical-align: top;\n",
              "    }\n",
              "\n",
              "    .dataframe thead th {\n",
              "        text-align: right;\n",
              "    }\n",
              "</style>\n",
              "<table border=\"1\" class=\"dataframe\">\n",
              "  <thead>\n",
              "    <tr style=\"text-align: right;\">\n",
              "      <th></th>\n",
              "      <th>STREET</th>\n",
              "    </tr>\n",
              "  </thead>\n",
              "  <tbody>\n",
              "    <tr>\n",
              "      <th>0</th>\n",
              "      <td>23 AVENUE</td>\n",
              "    </tr>\n",
              "    <tr>\n",
              "      <th>1</th>\n",
              "      <td>BROADWAY</td>\n",
              "    </tr>\n",
              "    <tr>\n",
              "      <th>2</th>\n",
              "      <td>BATHGATE AVENUE</td>\n",
              "    </tr>\n",
              "    <tr>\n",
              "      <th>3</th>\n",
              "      <td>NORTH 6 STREET</td>\n",
              "    </tr>\n",
              "    <tr>\n",
              "      <th>4</th>\n",
              "      <td>PARK PL</td>\n",
              "    </tr>\n",
              "    <tr>\n",
              "      <th>5</th>\n",
              "      <td>BEDFORD AVENUE</td>\n",
              "    </tr>\n",
              "    <tr>\n",
              "      <th>6</th>\n",
              "      <td>DEAN STREET</td>\n",
              "    </tr>\n",
              "    <tr>\n",
              "      <th>7</th>\n",
              "      <td>97 STREET</td>\n",
              "    </tr>\n",
              "    <tr>\n",
              "      <th>8</th>\n",
              "      <td>WEST 82 STREET</td>\n",
              "    </tr>\n",
              "    <tr>\n",
              "      <th>9</th>\n",
              "      <td>134 STREET</td>\n",
              "    </tr>\n",
              "  </tbody>\n",
              "</table>\n",
              "</div>"
            ],
            "text/plain": [
              "            STREET\n",
              "0        23 AVENUE\n",
              "1         BROADWAY\n",
              "2  BATHGATE AVENUE\n",
              "3   NORTH 6 STREET\n",
              "4          PARK PL\n",
              "5   BEDFORD AVENUE\n",
              "6      DEAN STREET\n",
              "7        97 STREET\n",
              "8   WEST 82 STREET\n",
              "9       134 STREET"
            ]
          },
          "metadata": {},
          "execution_count": 16
        }
      ]
    },
    {
      "cell_type": "code",
      "source": [
        "ds.select('VIOLATION_NUMBER').filter(IsDatetime('VIOLATION_NUMBER')).distinct()"
      ],
      "metadata": {
        "colab": {
          "base_uri": "https://localhost:8080/"
        },
        "id": "b-LtX8J5ZsIS",
        "outputId": "284d214f-4fdd-45d8-982a-3910864736e8"
      },
      "execution_count": 17,
      "outputs": [
        {
          "output_type": "execute_result",
          "data": {
            "text/plain": [
              "Counter({'-10/89': 1,\n",
              "         '-10/90': 1,\n",
              "         '-11/89': 1,\n",
              "         '-11/90': 1,\n",
              "         '-11/94': 1,\n",
              "         '-12/89': 1,\n",
              "         '-12/90': 1,\n",
              "         '-12/94': 1,\n",
              "         '....1798': 1,\n",
              "         '...1525': 1,\n",
              "         '...7026': 1,\n",
              "         '02/14/90': 1,\n",
              "         '030100..-': 1,\n",
              "         '04/04/94': 1,\n",
              "         '04/05/2005': 1,\n",
              "         '06 28 93': 1,\n",
              "         '060100..-': 1,\n",
              "         '060100...-': 1,\n",
              "         '060200...-': 1,\n",
              "         '07 14 93': 1,\n",
              "         '1/9/91': 1,\n",
              "         '104/01-02A': 1,\n",
              "         '110100 -': 1,\n",
              "         '110100 .-': 1,\n",
              "         '110100.. -': 1,\n",
              "         '110100..-': 1,\n",
              "         '110100...-': 1,\n",
              "         '1105 ./01': 1,\n",
              "         '1105 /02': 1,\n",
              "         '1105../01': 1,\n",
              "         '1160./1': 1,\n",
              "         '1160./2': 1,\n",
              "         '1176 /1': 1,\n",
              "         '1179  /4': 1,\n",
              "         '1255-1-1': 2,\n",
              "         '1275..../01': 1,\n",
              "         '1275./01': 1,\n",
              "         '1300 11/05': 1,\n",
              "         '1308 4/01': 1,\n",
              "         '132/02-04A': 1,\n",
              "         '1320-1-1': 1,\n",
              "         '1333../02': 1,\n",
              "         '1333../04': 2,\n",
              "         '1333../06': 1,\n",
              "         '1333../07': 1,\n",
              "         '1333../08': 1,\n",
              "         '1333./4': 1,\n",
              "         '1370 04/04': 1,\n",
              "         '1432-3-1': 2,\n",
              "         '1447./05': 1,\n",
              "         '1449-3-2': 1,\n",
              "         '1469-7-1': 1,\n",
              "         '14H01 207-9': 1,\n",
              "         '150200.-': 1,\n",
              "         '163/02-03': 1,\n",
              "         '168/01-02A': 1,\n",
              "         '181/02-03': 1,\n",
              "         '2 24 77': 1,\n",
              "         '2-22/90': 1,\n",
              "         '555-10-01': 1,\n",
              "         '6/15/16': 1})"
            ]
          },
          "metadata": {},
          "execution_count": 17
        }
      ]
    },
    {
      "cell_type": "code",
      "source": [
        "ds.select('STREET').filter(IsDatetime('STREET')).distinct()"
      ],
      "metadata": {
        "colab": {
          "base_uri": "https://localhost:8080/"
        },
        "id": "MJy0lZ1mZnP0",
        "outputId": "256c34e4-dfcc-4376-ec7c-d93bde03bc7f"
      },
      "execution_count": 18,
      "outputs": [
        {
          "output_type": "execute_result",
          "data": {
            "text/plain": [
              "Counter({'180  ST': 16,\n",
              "         '31 ST.': 1,\n",
              "         '41  ST': 9,\n",
              "         '47  ST': 1,\n",
              "         '47 ST.': 1,\n",
              "         '67  ST': 3,\n",
              "         '78. ST': 1})"
            ]
          },
          "metadata": {},
          "execution_count": 18
        }
      ]
    },
    {
      "cell_type": "code",
      "source": [
        "ds.count()"
      ],
      "metadata": {
        "colab": {
          "base_uri": "https://localhost:8080/"
        },
        "id": "xBcV7BVZkC-F",
        "outputId": "148e48b7-7b08-4a40-9b3d-be20a2c48451"
      },
      "execution_count": 19,
      "outputs": [
        {
          "output_type": "execute_result",
          "data": {
            "text/plain": [
              "2232772"
            ]
          },
          "metadata": {},
          "execution_count": 19
        }
      ]
    },
    {
      "cell_type": "markdown",
      "source": [
        "Data clean with spark"
      ],
      "metadata": {
        "id": "sgvUgE8jEnTb"
      }
    },
    {
      "cell_type": "code",
      "source": [
        "pip install pyspark"
      ],
      "metadata": {
        "colab": {
          "base_uri": "https://localhost:8080/"
        },
        "id": "IZtnwBNrF0HZ",
        "outputId": "13b7e0ab-a582-4409-bfc5-b45a58ad9fc6"
      },
      "execution_count": 22,
      "outputs": [
        {
          "output_type": "stream",
          "name": "stdout",
          "text": [
            "Collecting pyspark\n",
            "  Downloading pyspark-3.2.0.tar.gz (281.3 MB)\n",
            "\u001b[K     |████████████████████████████████| 281.3 MB 37 kB/s \n",
            "\u001b[?25hCollecting py4j==0.10.9.2\n",
            "  Downloading py4j-0.10.9.2-py2.py3-none-any.whl (198 kB)\n",
            "\u001b[K     |████████████████████████████████| 198 kB 64.6 MB/s \n",
            "\u001b[?25hBuilding wheels for collected packages: pyspark\n",
            "  Building wheel for pyspark (setup.py) ... \u001b[?25l\u001b[?25hdone\n",
            "  Created wheel for pyspark: filename=pyspark-3.2.0-py2.py3-none-any.whl size=281805912 sha256=766302f418953fad6f5a421407d19c1a673d14d8a9c1559ae3690df83b3864b3\n",
            "  Stored in directory: /root/.cache/pip/wheels/0b/de/d2/9be5d59d7331c6c2a7c1b6d1a4f463ce107332b1ecd4e80718\n",
            "Successfully built pyspark\n",
            "Installing collected packages: py4j, pyspark\n",
            "Successfully installed py4j-0.10.9.2 pyspark-3.2.0\n"
          ]
        }
      ]
    },
    {
      "cell_type": "code",
      "source": [
        "import sys\n",
        "from operator import add\n",
        "from pyspark import SparkContext\n",
        "from csv import reader"
      ],
      "metadata": {
        "id": "AdbdqdrfF2TK"
      },
      "execution_count": 23,
      "outputs": []
    },
    {
      "cell_type": "code",
      "source": [
        "sc = SparkContext()\n",
        "data_full = sc.textFile(fileName, 1)\n",
        "data_full = data_full.mapPartitions(lambda x: reader(x))\n",
        "data_full = data_full.filter(lambda x: x[0] != \"ISN_DOB_BIS_VIOL\")\n",
        "\n",
        "data = data_full.map(lambda x: [str(x[8]), str(x[9]), x[6], x[7], x[16], x[17]])\n",
        "\n",
        "data = data.filter(lambda x: \n",
        "                        x[0] != \"\" and\n",
        "                        x[1] != \"\" and\n",
        "                        x[2] != \"\" and\n",
        "                        x[3] != \"\" and\n",
        "                        x[4] != \"\" and\n",
        "                        x[5] != \"\")\n",
        "\n",
        "def repair(x):\n",
        "    x[0] = x[0].replace(' ','')\n",
        "    x[0] = x[0].replace('\\xa0','')\n",
        "    x[0] = x[0].replace(\"'\",'')\n",
        "    x[0] = x[0].replace(\"\\\\\",'')\n",
        "    x[0] = x[0].replace(\"`\",'')\n",
        "    x[0] = x[0].replace(\"¦\",'')\n",
        "    x[0] = x[0].replace('+','')\n",
        "    x[0] = x[0].replace('-','')\n",
        "    \n",
        "    x[1] = x[1].replace('  ',' ')\n",
        "    x[1] = x[1].replace(\"'\",'')\n",
        "    x[1] = x[1].replace('`','')\n",
        "    x[1] = x[1].replace('¦','')\n",
        "    x[1] = x[1].replace('+','')\n",
        "    x[1] = x[1].replace('-','')\n",
        "    while len(x[0]) > 0 and x[0][0] == '0':\n",
        "        x[0] = x[0][1:]\n",
        "    while len(x[1]) > 0 and x[1][0] == '.':\n",
        "        x[1] = x[1][1:]\n",
        "    return x\n",
        "    \n",
        "data_repaired = data.map(repair)\n",
        "data_repaired = data_repaired.filter(lambda x: x[0] != \"\").sortBy(lambda x:x[0]).sortBy(lambda x:x[1])\n",
        "\n",
        "data_result = data_repaired.map(lambda x: str(x[0]) + \" \" + str(x[1]) + \"\\t\" + str(x[2]) + \"\\t\" + str(x[3]) + \"\\t\" + str(x[4]) + \"\\t\" + str(x[5]))"
      ],
      "metadata": {
        "id": "yb8PeLRGF2ua"
      },
      "execution_count": 24,
      "outputs": []
    },
    {
      "cell_type": "code",
      "source": [
        "data_result.take(10)"
      ],
      "metadata": {
        "colab": {
          "base_uri": "https://localhost:8080/"
        },
        "id": "oZ5oGEb4GC1b",
        "outputId": "e921de8a-f96b-48d2-8f8f-96369cfbc95c"
      },
      "execution_count": 25,
      "outputs": [
        {
          "output_type": "execute_result",
          "data": {
            "text/plain": [
              "['128 \\tFISPNRF\\t00065\\tV*-DOB VIOLATION - DISMISSED\\tFISPNRF-NO REPORT AND / OR LATE FILING (FACADE)',\n",
              " '3802 \\t15 AVENUE\\tBENCH\\t01247\\tV-DOB VIOLATION - ACTIVE\\tBENCH-FAILURE TO BENCHMARK',\n",
              " '677 \\tVAN SINDEREN AVENUE\\tBENCH\\t01178\\tV*-DOB VIOLATION - DISMISSED\\tBENCH-FAILURE TO BENCHMARK',\n",
              " '3802  15 AVENUE\\tBENCH\\t00570\\tV-DOB VIOLATION - ACTIVE\\tBENCH-FAILURE TO BENCHMARK',\n",
              " '3802  15 AVENUE\\tBENCH\\t00816\\tV-DOB VIOLATION - ACTIVE\\tBENCH-FAILURE TO BENCHMARK',\n",
              " '16304 0\\tBENCH\\t00640\\tV-DOB VIOLATION - ACTIVE\\tBENCH-FAILURE TO BENCHMARK',\n",
              " '32A 0\\tBENCH\\t00691\\tV-DOB VIOLATION - ACTIVE\\tBENCH-FAILURE TO BENCHMARK',\n",
              " '606 0\\tBENCH\\t00372\\tV-DOB VIOLATION - ACTIVE\\tBENCH-FAILURE TO BENCHMARK',\n",
              " '624 0\\tBENCH\\t00373\\tV*-DOB VIOLATION - DISMISSED\\tBENCH-FAILURE TO BENCHMARK',\n",
              " '100 1  STREET\\tC\\t06SC02\\tVP*-VIOLATION UNSERVED ECB- DISMISSED\\tC-CONSTRUCTION']"
            ]
          },
          "metadata": {},
          "execution_count": 25
        }
      ]
    },
    {
      "cell_type": "code",
      "source": [
        "sc.stop()"
      ],
      "metadata": {
        "id": "iNqFWkOnGO6K"
      },
      "execution_count": 26,
      "outputs": []
    }
  ]
}